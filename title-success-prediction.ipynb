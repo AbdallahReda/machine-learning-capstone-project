{
 "cells": [
  {
   "cell_type": "markdown",
   "metadata": {},
   "source": [
    "# Machine Learning Engineer Nanodegree\n",
    "## Project: Predicting article's retweets and favorites based on its title using Machine Learning"
   ]
  },
  {
   "cell_type": "markdown",
   "metadata": {},
   "source": [
    "In this notebook is presented the code used to evaluate and test the assumptions of the prediction algorithm. The final report can be fully read on the attached file [final-report.pdf](https://github.com/flaviohenriquecbc/machine-learning-capstone-project/blob/master/final-report.pdf)\n",
    "\n",
    "Choosing a good title for an article is an important step of the writing process. The more interesting the article title seems, the higher the chance a reader will interact with the whole content. This project focus on predicting the number of shares and favorites on Twitter from FreeCodeCamp's articles based on its titles. This problem is a classification task using  Supervised Learning. With data from FreeCodeCamp on Twitter and Medium, it was used machine learning methods including Support Vector Machines (SVM), Decision Trees, Gaussian Naive Bayes (GaussianNB), K-Nearest Neighbors and Logistic Regression to make the predictions."
   ]
  },
  {
   "cell_type": "markdown",
   "metadata": {},
   "source": [
    "## Exploring the Data\n",
    "Load the FreeCodeCamp Twitter statistics and Medium statistics."
   ]
  },
  {
   "cell_type": "code",
   "execution_count": 365,
   "metadata": {},
   "outputs": [],
   "source": [
    "# Import libraries\n",
    "import numpy as np\n",
    "import pandas as pd\n",
    "from time import time\n",
    "from sklearn.metrics import f1_score\n",
    "import matplotlib.pyplot as plt"
   ]
  },
  {
   "cell_type": "code",
   "execution_count": 366,
   "metadata": {},
   "outputs": [
    {
     "name": "stdout",
     "output_type": "stream",
     "text": [
      "Title statistic data read successfully!\n"
     ]
    }
   ],
   "source": [
    "# Read imported data\n",
    "title_stat = pd.read_json(\"dataset/dataset-tweets-final.json\")\n",
    "print(\"Title statistic data read successfully!\")"
   ]
  },
  {
   "cell_type": "markdown",
   "metadata": {},
   "source": [
    "### Data Exploration\n",
    "Let's check how the dataset seems like. Some columns were ommited from this table (id, created_at and url)\n",
    "\n",
    "The data used to predict how titles will perform was gathered from the accounts of the non-profit organization FreeCodeCamp on Medium and Twitter. On both social platforms, it was possible to get public information about how the users interacted with the content, using as “Favorites” and “Retweets” from Twitter, and “Claps” from Medium.\n",
    "\n",
    "Correlating the number of “Favorites” and “Retweets” from Twitter with a Medium article, is an attempt to isolate the effect of number of reached readers and number of Medium “Claps”. Because the more the article is shared in different platforms, the more readers it will reach and the more Medium “Claps” it will receive. Using only the Twitter statistic, it is expected that the articles reached initially almost the same number of readers (that are the followers of the FreeCodeCamp account on Twitter), and their performance and interactions are limited to the characteristics of the tweet, for example, the title of the article, that is exactly what we want to measure.\n"
   ]
  },
  {
   "cell_type": "code",
   "execution_count": 364,
   "metadata": {},
   "outputs": [
    {
     "data": {
      "text/html": [
       "<div>\n",
       "<style scoped>\n",
       "    .dataframe tbody tr th:only-of-type {\n",
       "        vertical-align: middle;\n",
       "    }\n",
       "\n",
       "    .dataframe tbody tr th {\n",
       "        vertical-align: top;\n",
       "    }\n",
       "\n",
       "    .dataframe thead th {\n",
       "        text-align: right;\n",
       "    }\n",
       "</style>\n",
       "<table border=\"1\" class=\"dataframe\">\n",
       "  <thead>\n",
       "    <tr style=\"text-align: right;\">\n",
       "      <th></th>\n",
       "      <th>Title (Twitter)</th>\n",
       "      <th>Favorites (Twitter)</th>\n",
       "      <th>Retweet (Twitter)</th>\n",
       "      <th>Claps (Medium)</th>\n",
       "      <th>Title Lenght</th>\n",
       "      <th>Categories (Medium)</th>\n",
       "    </tr>\n",
       "  </thead>\n",
       "  <tbody>\n",
       "    <tr>\n",
       "      <th>0</th>\n",
       "      <td>How to use JSON padding (and other options) to...</td>\n",
       "      <td>10</td>\n",
       "      <td>5</td>\n",
       "      <td>177</td>\n",
       "      <td>76</td>\n",
       "      <td>[JavaScript, HTML, Web Development, Tutorial, ...</td>\n",
       "    </tr>\n",
       "    <tr>\n",
       "      <th>1</th>\n",
       "      <td>How to build GitHub search functionality in Re...</td>\n",
       "      <td>19</td>\n",
       "      <td>7</td>\n",
       "      <td>61</td>\n",
       "      <td>90</td>\n",
       "      <td>[React, Tech, Functional Programming, Programm...</td>\n",
       "    </tr>\n",
       "    <tr>\n",
       "      <th>2</th>\n",
       "      <td>How to read and write Mindful Minutes from iOS...</td>\n",
       "      <td>11</td>\n",
       "      <td>6</td>\n",
       "      <td>54</td>\n",
       "      <td>93</td>\n",
       "      <td>[iOS, Software Development, Programming, Web D...</td>\n",
       "    </tr>\n",
       "    <tr>\n",
       "      <th>3</th>\n",
       "      <td>How to make more money on Upwork, by @jpmorris</td>\n",
       "      <td>39</td>\n",
       "      <td>9</td>\n",
       "      <td>139</td>\n",
       "      <td>46</td>\n",
       "      <td>[Freelancing, Tech, Web Development, Web Desig...</td>\n",
       "    </tr>\n",
       "    <tr>\n",
       "      <th>4</th>\n",
       "      <td>b\"Let's build a fun little game: Learn advance...</td>\n",
       "      <td>62</td>\n",
       "      <td>14</td>\n",
       "      <td>342</td>\n",
       "      <td>118</td>\n",
       "      <td>[CSS, Games, Tech, Programming, React]</td>\n",
       "    </tr>\n",
       "  </tbody>\n",
       "</table>\n",
       "</div>"
      ],
      "text/plain": [
       "                                     Title (Twitter)  Favorites (Twitter)  \\\n",
       "0  How to use JSON padding (and other options) to...                   10   \n",
       "1  How to build GitHub search functionality in Re...                   19   \n",
       "2  How to read and write Mindful Minutes from iOS...                   11   \n",
       "3     How to make more money on Upwork, by @jpmorris                   39   \n",
       "4  b\"Let's build a fun little game: Learn advance...                   62   \n",
       "\n",
       "   Retweet (Twitter)  Claps (Medium)  Title Lenght  \\\n",
       "0                  5             177            76   \n",
       "1                  7              61            90   \n",
       "2                  6              54            93   \n",
       "3                  9             139            46   \n",
       "4                 14             342           118   \n",
       "\n",
       "                                 Categories (Medium)  \n",
       "0  [JavaScript, HTML, Web Development, Tutorial, ...  \n",
       "1  [React, Tech, Functional Programming, Programm...  \n",
       "2  [iOS, Software Development, Programming, Web D...  \n",
       "3  [Freelancing, Tech, Web Development, Web Desig...  \n",
       "4             [CSS, Games, Tech, Programming, React]  "
      ]
     },
     "execution_count": 364,
     "metadata": {},
     "output_type": "execute_result"
    }
   ],
   "source": [
    "# Remove some columns to print\n",
    "temp = title_stat.drop(['id', 'created_at', 'url'], axis=1)\n",
    "# calculate length of the titles\n",
    "temp['text_lenght'] = temp['text'].str.len()\n",
    "# reorder the columns\n",
    "temp = temp[temp.columns[[4, 0, 3, 2, 5, 1]]]\n",
    "# rename the columns\n",
    "temp = temp.rename(index=str, columns={\"favorite_count\": \"Favorites (Twitter)\", \"medium_categories\": \"Categories (Medium)\", \"medium_claps\": \"Claps (Medium)\", \"retweet_count\": \"Retweet (Twitter)\", \"text\": \"Title (Twitter)\", \"text_lenght\": \"Title Lenght\"})\n",
    "# limit the total number of lines to print\n",
    "temp.head()"
   ]
  },
  {
   "cell_type": "markdown",
   "metadata": {},
   "source": [
    "### Exploratory Visualization\n",
    "Now we will investigate the dataset to determine how many titles we have information on, and learn about its statistics.\n",
    "\n",
    "\n",
    "Bla bla bla\n"
   ]
  },
  {
   "cell_type": "code",
   "execution_count": 368,
   "metadata": {},
   "outputs": [
    {
     "name": "stdout",
     "output_type": "stream",
     "text": [
      "Total number of titles: 719\n",
      "Number of columns: 8\n",
      "\n",
      "Statistics for Retweets:\n",
      "Mean: 16.46\n",
      "Median: 11.00\n",
      "Standard deviation: 15.69\n",
      "Min: 0.00\n",
      "Max: 125.00\n",
      "\n",
      "Statistics for Favorites on Twitter:\n",
      "Mean: 49.36\n",
      "Median: 34.00\n",
      "Standard deviation: 45.32\n",
      "Min: 0.00\n",
      "Max: 298.00\n",
      "\n",
      "Statistics for Claps on Medium:\n",
      "Mean: 283.41\n",
      "Median: 236.00\n",
      "Standard deviation: 273.10\n",
      "Min: 1.00\n",
      "Max: 997.00\n",
      "\n",
      "Statistics for Title lenght on Twitter:\n",
      "Mean: 80.37\n",
      "Median: 79.00\n",
      "Standard deviation: 22.36\n",
      "Min: 12.00\n",
      "Max: 146.00\n"
     ]
    },
    {
     "data": {
      "image/png": "[encoded data removed]",
      "text/plain": [
       "<matplotlib.figure.Figure at 0x1a19c72a58>"
      ]
     },
     "metadata": {},
     "output_type": "display_data"
    },
    {
     "data": {
      "image/png": "[encoded data removed]",
      "text/plain": [
       "<matplotlib.figure.Figure at 0x1a19282128>"
      ]
     },
     "metadata": {},
     "output_type": "display_data"
    },
    {
     "data": {
      "image/png": "[encoded data removed]",
      "text/plain": [
       "<matplotlib.figure.Figure at 0x1a1a90b400>"
      ]
     },
     "metadata": {},
     "output_type": "display_data"
    },
    {
     "data": {
      "image/png": "[encoded data removed]",
      "text/plain": [
       "<matplotlib.figure.Figure at 0x1a1b584208>"
      ]
     },
     "metadata": {},
     "output_type": "display_data"
    },
    {
     "data": {
      "image/png": "[encoded data removed]",
      "text/plain": [
       "<matplotlib.figure.Figure at 0x1a1af05208>"
      ]
     },
     "metadata": {},
     "output_type": "display_data"
    },
    {
     "data": {
      "image/png": "[encoded data removed]",
      "text/plain": [
       "<matplotlib.figure.Figure at 0x1a1960ebe0>"
      ]
     },
     "metadata": {},
     "output_type": "display_data"
    },
    {
     "data": {
      "image/png": "[encoded data removed]",
      "text/plain": [
       "<matplotlib.figure.Figure at 0x1a19bcf4e0>"
      ]
     },
     "metadata": {},
     "output_type": "display_data"
    },
    {
     "data": {
      "image/png": "[encoded data removed]",
      "text/plain": [
       "<matplotlib.figure.Figure at 0x1a1b37f828>"
      ]
     },
     "metadata": {},
     "output_type": "display_data"
    },
    {
     "data": {
      "image/png": "[encoded data removed]",
      "text/plain": [
       "<matplotlib.figure.Figure at 0x1a1b996d30>"
      ]
     },
     "metadata": {},
     "output_type": "display_data"
    },
    {
     "data": {
      "image/png": "[encoded data removed]",
      "text/plain": [
       "<matplotlib.figure.Figure at 0x1a1ae60d68>"
      ]
     },
     "metadata": {},
     "output_type": "display_data"
    }
   ],
   "source": [
    "# calculate length of the titles\n",
    "title_stat['text_lenght'] = title_stat['text'].str.len()\n",
    "\n",
    "# Calculate number of students\n",
    "n_titles = len(title_stat)\n",
    "\n",
    "# Calculate number of features\n",
    "n_features = len(title_stat.columns) - 1\n",
    "\n",
    "# Print the results\n",
    "print(\"Total number of titles: {}\".format(n_titles))\n",
    "print(\"Number of columns: {}\".format(n_features))\n",
    "\n",
    "# set the columns that will show statistic and graph\n",
    "columns = [{'column_name': 'retweet_count', 'column_text': 'Retweets'},\n",
    "           {'column_name': 'favorite_count', 'column_text': 'Favorites on Twitter'},\n",
    "           {'column_name': 'medium_claps', 'column_text': 'Claps on Medium'},\n",
    "           {'column_name': 'text_lenght', 'column_text': 'Title lenght on Twitter'}\n",
    "          ] \n",
    "\n",
    "# plot statistic and graph\n",
    "for el in columns:\n",
    "    column = title_stat[el['column_name']]\n",
    "    mean = np.mean(column)\n",
    "    median = np.median(column)\n",
    "    std = np.std(column)\n",
    "    min = np.min(column)\n",
    "    max = np.max(column)\n",
    "\n",
    "    # Show the calculated statistics\n",
    "    print(\"\\nStatistics for {}:\".format(el['column_text']))\n",
    "    print(\"Mean: {:,.2f}\".format(mean))\n",
    "    print(\"Median: {:,.2f}\".format(median))\n",
    "    print(\"Standard deviation: {:,.2f}\".format(std))\n",
    "    print(\"Min: {:,.2f}\".format(min))\n",
    "    print(\"Max: {:,.2f}\".format(max))\n",
    "\n",
    "    plt.figure()\n",
    "    column.plot.hist(orientation='vertical', cumulative=False, title=el['column_text'])\n",
    "    \n",
    "\n",
    "    if el['column_name'] != 'text_lenght':\n",
    "        \n",
    "        # print relation between the number of retweet/favorite/claps and the text length\n",
    "        plt.figure() # figsize=(4, 4)\n",
    "        temp = title_stat.groupby(pd.cut(title_stat['text_lenght'], bins=np.arange(0, 140+20, step=20))).mean()[el['column_name']]\n",
    "        temp.plot.bar()\n",
    "        plt.title('{} vs Title Lenght'.format(el['column_text']));\n",
    "    \n",
    "        # print relation between the tag used on medium (tag) and the number of retweet/favorite/claps\n",
    "        plt.figure() # figsize=(4, 4)\n",
    "        lst_col = 'medium_categories'\n",
    "        x = pd.DataFrame({\n",
    "                col:np.repeat(title_stat[col].values, title_stat[lst_col].str.len())\n",
    "                for col in title_stat.columns.difference([lst_col])\n",
    "            }).assign(**{lst_col:np.concatenate(title_stat[lst_col].values)})[title_stat.columns.tolist()]\n",
    "        temp = x.groupby(lst_col).mean()[el['column_name']].sort_values(ascending=False).head(10).sort_values(ascending=True)\n",
    "        temp.plot.barh()\n",
    "        plt.title('Top 10 Medium Categories vs {}'.format(el['column_text']));\n"
   ]
  },
  {
   "cell_type": "markdown",
   "metadata": {},
   "source": [
    "## Preparing the Data\n",
    "In this section, we will prepare the data for modeling, training and testing.\n",
    "\n",
    "### Identify feature and target columns\n",
    "It is often the case that the data you obtain contains non-numeric features. This can be a problem, as most machine learning algorithms expect numeric data to perform computations with.\n",
    "\n",
    "Run the code cell below to separate the student data into feature and target columns to see if any features are non-numeric."
   ]
  },
  {
   "cell_type": "code",
   "execution_count": 27,
   "metadata": {},
   "outputs": [
    {
     "name": "stdout",
     "output_type": "stream",
     "text": [
      "Feature columns:\n",
      "['school', 'sex', 'age', 'address', 'famsize', 'Pstatus', 'Medu', 'Fedu', 'Mjob', 'Fjob', 'reason', 'guardian', 'traveltime', 'studytime', 'failures', 'schoolsup', 'famsup', 'paid', 'activities', 'nursery', 'higher', 'internet', 'romantic', 'famrel', 'freetime', 'goout', 'Dalc', 'Walc', 'health', 'absences']\n",
      "\n",
      "Target column: passed\n",
      "\n",
      "Feature values:\n",
      "  school sex  age address famsize Pstatus  Medu  Fedu     Mjob      Fjob  \\\n",
      "0     GP   F   18       U     GT3       A     4     4  at_home   teacher   \n",
      "1     GP   F   17       U     GT3       T     1     1  at_home     other   \n",
      "2     GP   F   15       U     LE3       T     1     1  at_home     other   \n",
      "3     GP   F   15       U     GT3       T     4     2   health  services   \n",
      "4     GP   F   16       U     GT3       T     3     3    other     other   \n",
      "\n",
      "    ...    higher internet  romantic  famrel  freetime goout Dalc Walc health  \\\n",
      "0   ...       yes       no        no       4         3     4    1    1      3   \n",
      "1   ...       yes      yes        no       5         3     3    1    1      3   \n",
      "2   ...       yes      yes        no       4         3     2    2    3      3   \n",
      "3   ...       yes      yes       yes       3         2     2    1    1      5   \n",
      "4   ...       yes       no        no       4         3     2    1    2      5   \n",
      "\n",
      "  absences  \n",
      "0        6  \n",
      "1        4  \n",
      "2       10  \n",
      "3        2  \n",
      "4        4  \n",
      "\n",
      "[5 rows x 30 columns]\n"
     ]
    }
   ],
   "source": [
    "# Extract feature columns\n",
    "feature_cols = list(student_data.columns[:-1])\n",
    "\n",
    "# Extract target column 'passed'\n",
    "target_col = student_data.columns[-1] \n",
    "\n",
    "# Show the list of columns\n",
    "print(\"Feature columns:\\n{}\".format(feature_cols))\n",
    "print(\"\\nTarget column: {}\".format(target_col))\n",
    "\n",
    "# Separate the data into feature data and target data (X_all and y_all, respectively)\n",
    "X_all = student_data[feature_cols]\n",
    "y_all = student_data[target_col]\n",
    "\n",
    "# Show the feature information by printing the first five rows\n",
    "print(\"\\nFeature values:\")\n",
    "print(X_all.head())"
   ]
  },
  {
   "cell_type": "markdown",
   "metadata": {},
   "source": [
    "### Preprocess Feature Columns\n",
    "\n",
    "As you can see, there are several non-numeric columns that need to be converted! Many of them are simply `yes`/`no`, e.g. `internet`. These can be reasonably converted into `1`/`0` (binary) values.\n",
    "\n",
    "Other columns, like `Mjob` and `Fjob`, have more than two values, and are known as _categorical variables_. The recommended way to handle such a column is to create as many columns as possible values (e.g. `Fjob_teacher`, `Fjob_other`, `Fjob_services`, etc.), and assign a `1` to one of them and `0` to all others.\n",
    "\n",
    "These generated columns are sometimes called _dummy variables_, and we will use the [`pandas.get_dummies()`](http://pandas.pydata.org/pandas-docs/stable/generated/pandas.get_dummies.html?highlight=get_dummies#pandas.get_dummies) function to perform this transformation. Run the code cell below to perform the preprocessing routine discussed in this section."
   ]
  },
  {
   "cell_type": "code",
   "execution_count": 28,
   "metadata": {},
   "outputs": [
    {
     "name": "stdout",
     "output_type": "stream",
     "text": [
      "Processed feature columns (48 total features):\n",
      "['school_GP', 'school_MS', 'sex_F', 'sex_M', 'age', 'address_R', 'address_U', 'famsize_GT3', 'famsize_LE3', 'Pstatus_A', 'Pstatus_T', 'Medu', 'Fedu', 'Mjob_at_home', 'Mjob_health', 'Mjob_other', 'Mjob_services', 'Mjob_teacher', 'Fjob_at_home', 'Fjob_health', 'Fjob_other', 'Fjob_services', 'Fjob_teacher', 'reason_course', 'reason_home', 'reason_other', 'reason_reputation', 'guardian_father', 'guardian_mother', 'guardian_other', 'traveltime', 'studytime', 'failures', 'schoolsup', 'famsup', 'paid', 'activities', 'nursery', 'higher', 'internet', 'romantic', 'famrel', 'freetime', 'goout', 'Dalc', 'Walc', 'health', 'absences']\n"
     ]
    }
   ],
   "source": [
    "def preprocess_features(X):\n",
    "    ''' Preprocesses the student data and converts non-numeric binary variables into\n",
    "        binary (0/1) variables. Converts categorical variables into dummy variables. '''\n",
    "    \n",
    "    # Initialize new output DataFrame\n",
    "    output = pd.DataFrame(index = X.index)\n",
    "\n",
    "    # Investigate each feature column for the data\n",
    "    for col, col_data in X.iteritems():\n",
    "        \n",
    "        # If data type is non-numeric, replace all yes/no values with 1/0\n",
    "        if col_data.dtype == object:\n",
    "            col_data = col_data.replace(['yes', 'no'], [1, 0])\n",
    "\n",
    "        # If data type is categorical, convert to dummy variables\n",
    "        if col_data.dtype == object:\n",
    "            # Example: 'school' => 'school_GP' and 'school_MS'\n",
    "            col_data = pd.get_dummies(col_data, prefix = col)  \n",
    "        \n",
    "        # Collect the revised columns\n",
    "        output = output.join(col_data)\n",
    "    \n",
    "    return output\n",
    "\n",
    "X_all = preprocess_features(X_all)\n",
    "print(\"Processed feature columns ({} total features):\\n{}\".format(len(X_all.columns), list(X_all.columns)))"
   ]
  },
  {
   "cell_type": "markdown",
   "metadata": {},
   "source": [
    "### Implementation: Training and Testing Data Split\n",
    "So far, we have converted all _categorical_ features into numeric values. For the next step, we split the data (both features and corresponding labels) into training and test sets. In the following code cell below, you will need to implement the following:\n",
    "- Randomly shuffle and split the data (`X_all`, `y_all`) into training and testing subsets.\n",
    "  - Use 300 training points (approximately 75%) and 95 testing points (approximately 25%).\n",
    "  - Set a `random_state` for the function(s) you use, if provided.\n",
    "  - Store the results in `X_train`, `X_test`, `y_train`, and `y_test`."
   ]
  },
  {
   "cell_type": "code",
   "execution_count": 29,
   "metadata": {},
   "outputs": [
    {
     "name": "stdout",
     "output_type": "stream",
     "text": [
      "Training set has 300 samples.\n",
      "Testing set has 95 samples.\n"
     ]
    }
   ],
   "source": [
    "# Import any additional functionality you may need here\n",
    "from sklearn.model_selection import train_test_split\n",
    "\n",
    "# Set the number of training points\n",
    "num_train = 95\n",
    "\n",
    "# Set the number of testing points\n",
    "num_test = X_all.shape[0] - num_train\n",
    "\n",
    "# Shuffle and split the dataset into the number of training and testing points above\n",
    "X_train, X_test, y_train, y_test = train_test_split(X_all, y_all, test_size=num_train/(num_test + num_train), shuffle=True)\n",
    "\n",
    "# Show the results of the split\n",
    "print(\"Training set has {} samples.\".format(X_train.shape[0]))\n",
    "print(\"Testing set has {} samples.\".format(X_test.shape[0]))"
   ]
  },
  {
   "cell_type": "markdown",
   "metadata": {},
   "source": [
    "## Training and Evaluating Models\n",
    "In this section, you will choose 3 supervised learning models that are appropriate for this problem and available in `scikit-learn`. You will first discuss the reasoning behind choosing these three models by considering what you know about the data and each model's strengths and weaknesses. You will then fit the model to varying sizes of training data (100 data points, 200 data points, and 300 data points) and measure the F<sub>1</sub> score. You will need to produce three tables (one for each model) that shows the training set size, training time, prediction time, F<sub>1</sub> score on the training set, and F<sub>1</sub> score on the testing set.\n",
    "\n",
    "**The following supervised learning models are currently available in** [`scikit-learn`](http://scikit-learn.org/stable/supervised_learning.html) **that you may choose from:**\n",
    "- Gaussian Naive Bayes (GaussianNB)\n",
    "- Decision Trees\n",
    "- Ensemble Methods (Bagging, AdaBoost, Random Forest, Gradient Boosting)\n",
    "- K-Nearest Neighbors (KNeighbors)\n",
    "- Stochastic Gradient Descent (SGDC)\n",
    "- Support Vector Machines (SVM)\n",
    "- Logistic Regression"
   ]
  },
  {
   "cell_type": "markdown",
   "metadata": {},
   "source": [
    "### Question 2 - Model Application\n",
    "*List three supervised learning models that are appropriate for this problem. For each model chosen*\n",
    "- Describe one real-world application in industry where the model can be applied. *(You may need to do a small bit of research for this — give references!)* \n",
    "- What are the strengths of the model; when does it perform well? \n",
    "- What are the weaknesses of the model; when does it perform poorly?\n",
    "- What makes this model a good candidate for the problem, given what you know about the data?"
   ]
  },
  {
   "cell_type": "markdown",
   "metadata": {},
   "source": [
    "**Answer: **\n",
    "\n",
    "**Gaussian Naive Bayes (GaussianNB):**\n",
    "- Examples:\n",
    "    - Identify spam: \"An evaluation of Naive Bayesian anti-spam filtering\" - https://arxiv.org/abs/cs/0006013\n",
    "    - Also Text analysis and for banks in Credit Scoring.\n",
    "- Strengths:\n",
    "    - It is easy and fast to predict a class of test data set.\n",
    "    - Naive Bayes perform better compare to other models assuming independence\n",
    "    - It perform well in case of categorical input variable compared to numerical variables.\n",
    "    - Computationally fast\n",
    "    - Simple to implement\n",
    "- Weakness:\n",
    "    - Relies on independence assumption and will perform badly if this assumption is not met\n",
    "- Good fit\n",
    "    - I have chosen GaussianNB, because this family of algorithms can predict well with small set of data and when there is a large number of features comparatively. In our case, we have 395 students (training/testing data) and 30 features, and due to the fact that we can assume the features are independent between them.\n",
    "\n",
    "\n",
    "**Decision Trees:**\n",
    "- Examples:\n",
    "    - Medical classifications: \"Decision Trees: An Overview and Their Use in Medicine\" - https://link.springer.com/article/10.1023/A:1016409317640\n",
    "    - Insurance company can predict if their customers will pay the renew the premium account\n",
    "    - Define a price of a house based on the number of rooms\n",
    "- Strengths:\n",
    "    - Simple to understand, interpret and visualize\n",
    "    - Variable screening or Feature selection\n",
    "    - Little effort for data preparation\n",
    "- Weakness:\n",
    "    - It is easy to overfit the data\n",
    "    - It can be unstable because small variation in the data\n",
    "- Good fit?\n",
    "    - This model was chosen, because it can be easily interpreted, visualized and explained. Also due the fact that this model implicitly perform variable screening or feature selection.\n",
    "\n",
    "**Support Vector Machine:**\n",
    "- Examples: We can use SVM in:\n",
    "    - Medical classification: \"Gene Selection for Cancer Classification using Support Vector Machines\" - https://link.springer.com/article/10.1023/A:1012487302797\n",
    "    - Medical imaging\n",
    "    - Image interpolation\n",
    "    - Medical classification tasks\n",
    "    - Predictions and financis analysis in Financial areas\n",
    "    - Progression models to study the air quality in urban areas\n",
    "- Strengths:\n",
    "    - Effective in high dimensional spaces\n",
    "    - Different kernel functions for various decision functions\n",
    "- Weakness:\n",
    "    - Poor performance when then number of features is bigger than the number of samples\n",
    "    - Does no provide probability estimates.\n",
    "- Good fit?\n",
    "    - This model was chosen, because it works well then big quantity of features and relatively small quantity of data and to deal well with linear and non-linear datasets. And due the fact we have more samples than number of features, it can give us a good prediction.\n",
    "\n"
   ]
  },
  {
   "cell_type": "markdown",
   "metadata": {},
   "source": [
    "### Setup\n",
    "Run the code cell below to initialize three helper functions which you can use for training and testing the three supervised learning models you've chosen above. The functions are as follows:\n",
    "- `train_classifier` - takes as input a classifier and training data and fits the classifier to the data.\n",
    "- `predict_labels` - takes as input a fit classifier, features, and a target labeling and makes predictions using the F<sub>1</sub> score.\n",
    "- `train_predict` - takes as input a classifier, and the training and testing data, and performs `train_clasifier` and `predict_labels`.\n",
    " - This function will report the F<sub>1</sub> score for both the training and testing data separately."
   ]
  },
  {
   "cell_type": "code",
   "execution_count": 23,
   "metadata": {},
   "outputs": [],
   "source": [
    "def train_classifier(clf, X_train, y_train):\n",
    "    ''' Fits a classifier to the training data. '''\n",
    "    \n",
    "    # Start the clock, train the classifier, then stop the clock\n",
    "    start = time()\n",
    "    clf.fit(X_train, y_train)\n",
    "    end = time()\n",
    "    \n",
    "    # Print the results\n",
    "    print(\"Trained model in {:.4f} seconds\".format(end - start))\n",
    "\n",
    "    \n",
    "def predict_labels(clf, features, target):\n",
    "    ''' Makes predictions using a fit classifier based on F1 score. '''\n",
    "    \n",
    "    # Start the clock, make predictions, then stop the clock\n",
    "    start = time()\n",
    "    y_pred = clf.predict(features)\n",
    "    end = time()\n",
    "    \n",
    "    # Print and return results\n",
    "    print(\"Made predictions in {:.4f} seconds.\".format(end - start))\n",
    "    return f1_score(target.values, y_pred, pos_label='yes')\n",
    "\n",
    "\n",
    "def train_predict(clf, X_train, y_train, X_test, y_test):\n",
    "    ''' Train and predict using a classifer based on F1 score. '''\n",
    "    \n",
    "    # Indicate the classifier and the training set size\n",
    "    print(\"Training a {} using a training set size of {}. . .\".format(clf.__class__.__name__, len(X_train)))\n",
    "    \n",
    "    # Train the classifier\n",
    "    train_classifier(clf, X_train, y_train)\n",
    "    \n",
    "    # Print the results of prediction for both training and testing\n",
    "    print(\"F1 score for training set: {:.4f}.\".format(predict_labels(clf, X_train, y_train)))\n",
    "    print(\"F1 score for test set: {:.4f}.\".format(predict_labels(clf, X_test, y_test)))"
   ]
  },
  {
   "cell_type": "markdown",
   "metadata": {},
   "source": [
    "### Implementation: Model Performance Metrics\n",
    "With the predefined functions above, you will now import the three supervised learning models of your choice and run the `train_predict` function for each one. Remember that you will need to train and predict on each classifier for three different training set sizes: 100, 200, and 300. Hence, you should expect to have 9 different outputs below — 3 for each model using the varying training set sizes. In the following code cell, you will need to implement the following:\n",
    "- Import the three supervised learning models you've discussed in the previous section.\n",
    "- Initialize the three models and store them in `clf_A`, `clf_B`, and `clf_C`.\n",
    " - Use a `random_state` for each model you use, if provided.\n",
    " - **Note:** Use the default settings for each model — you will tune one specific model in a later section.\n",
    "- Create the different training set sizes to be used to train each model.\n",
    " - *Do not reshuffle and resplit the data! The new training points should be drawn from `X_train` and `y_train`.*\n",
    "- Fit each model with each training set size and make predictions on the test set (9 in total).  \n",
    "**Note:** Three tables are provided after the following code cell which can be used to store your results."
   ]
  },
  {
   "cell_type": "code",
   "execution_count": 20,
   "metadata": {},
   "outputs": [
    {
     "name": "stdout",
     "output_type": "stream",
     "text": [
      "==== Classifier: GaussianNB ====\n",
      "Training a GaussianNB using a training set size of 100. . .\n",
      "Trained model in 0.0019 seconds\n",
      "Made predictions in 0.0010 seconds.\n",
      "F1 score for training set: 0.8235.\n",
      "Made predictions in 0.0008 seconds.\n",
      "F1 score for test set: 0.6555.\n",
      "\n",
      "\n",
      "Training a GaussianNB using a training set size of 200. . .\n",
      "Trained model in 0.0019 seconds\n",
      "Made predictions in 0.0007 seconds.\n",
      "F1 score for training set: 0.7986.\n",
      "Made predictions in 0.0006 seconds.\n",
      "F1 score for test set: 0.6935.\n",
      "\n",
      "\n",
      "Training a GaussianNB using a training set size of 300. . .\n",
      "Trained model in 0.0023 seconds\n",
      "Made predictions in 0.0007 seconds.\n",
      "F1 score for training set: 0.8028.\n",
      "Made predictions in 0.0006 seconds.\n",
      "F1 score for test set: 0.7360.\n",
      "\n",
      "\n",
      "\n",
      "\n",
      "\n",
      "==== Classifier: DecisionTreeClassifier ====\n",
      "Training a DecisionTreeClassifier using a training set size of 100. . .\n",
      "Trained model in 0.0023 seconds\n",
      "Made predictions in 0.0008 seconds.\n",
      "F1 score for training set: 1.0000.\n",
      "Made predictions in 0.0003 seconds.\n",
      "F1 score for test set: 0.5370.\n",
      "\n",
      "\n",
      "Training a DecisionTreeClassifier using a training set size of 200. . .\n",
      "Trained model in 0.0020 seconds\n",
      "Made predictions in 0.0004 seconds.\n",
      "F1 score for training set: 1.0000.\n",
      "Made predictions in 0.0014 seconds.\n",
      "F1 score for test set: 0.7520.\n",
      "\n",
      "\n",
      "Training a DecisionTreeClassifier using a training set size of 300. . .\n",
      "Trained model in 0.0036 seconds\n",
      "Made predictions in 0.0006 seconds.\n",
      "F1 score for training set: 1.0000.\n",
      "Made predictions in 0.0005 seconds.\n",
      "F1 score for test set: 0.7059.\n",
      "\n",
      "\n",
      "\n",
      "\n",
      "\n",
      "==== Classifier: SVC ====\n",
      "Training a SVC using a training set size of 100. . .\n",
      "Trained model in 0.0014 seconds\n",
      "Made predictions in 0.0022 seconds.\n",
      "F1 score for training set: 0.8571.\n",
      "Made predictions in 0.0012 seconds.\n",
      "F1 score for test set: 0.8000.\n",
      "\n",
      "\n",
      "Training a SVC using a training set size of 200. . .\n",
      "Trained model in 0.0060 seconds\n",
      "Made predictions in 0.0021 seconds.\n",
      "F1 score for training set: 0.8528.\n",
      "Made predictions in 0.0014 seconds.\n",
      "F1 score for test set: 0.7600.\n",
      "\n",
      "\n",
      "Training a SVC using a training set size of 300. . .\n",
      "Trained model in 0.0060 seconds\n",
      "Made predictions in 0.0044 seconds.\n",
      "F1 score for training set: 0.8477.\n",
      "Made predictions in 0.0017 seconds.\n",
      "F1 score for test set: 0.7917.\n",
      "\n",
      "\n",
      "\n",
      "\n",
      "\n"
     ]
    }
   ],
   "source": [
    "from sklearn.naive_bayes import GaussianNB\n",
    "from sklearn.tree import DecisionTreeClassifier\n",
    "from sklearn.svm import SVC\n",
    "\n",
    "# Initialize the three models\n",
    "clf_A = GaussianNB()\n",
    "clf_B = DecisionTreeClassifier(random_state=0)\n",
    "clf_C = SVC()\n",
    "\n",
    "# Execute the 'train_predict' function for each classifier and each training set size\n",
    "for clf in [clf_A, clf_B, clf_C]:\n",
    "    print(\"==== Classifier: {} ====\".format(clf.__class__.__name__))\n",
    "    for n in [100, 200, 300]:\n",
    "        train_predict(clf, X_train[:n], y_train[:n], X_test, y_test)\n",
    "        print(\"\\n\")\n",
    "    print(\"\\n\\n\")"
   ]
  },
  {
   "cell_type": "markdown",
   "metadata": {},
   "source": [
    "### Tabular Results\n",
    "Edit the cell below to see how a table can be designed in [Markdown](https://github.com/adam-p/markdown-here/wiki/Markdown-Cheatsheet#tables). You can record your results from above in the tables provided."
   ]
  },
  {
   "cell_type": "markdown",
   "metadata": {},
   "source": [
    "** Classifer 1 - GaussianNB**  \n",
    "\n",
    "| Training Set Size | Training Time (s) | Prediction Time (test) | F1 Score (train) | F1 Score (test) |\n",
    "| :---------------: | :---------------------: | :--------------------: | :--------------: | :-------------: |\n",
    "| 100               |        0.0019           |         0.0010         |      0.8235      |      0.6555     |\n",
    "| 200               |        0.0019           |         0.0007         |      0.7986      |      0.6935     |\n",
    "| 300               |        0.0023           |         0.0007         |      0.8028      |      0.7360     |\n",
    "\n",
    "** Classifer 2 - DecisionTreeClassifier**  \n",
    "\n",
    "| Training Set Size | Training Time (s) | Prediction Time (test) | F1 Score (train) | F1 Score (test) |\n",
    "| :---------------: | :---------------------: | :--------------------: | :--------------: | :-------------: |\n",
    "| 100               |         0.0023          |         0.0008         |      1.0000      |      0.5370     |\n",
    "| 200               |         0.0020          |         0.0004         |      1.0000      |      0.7520     |\n",
    "| 300               |         0.0036          |         0.0006         |      1.0000      |      0.7059     |\n",
    "\n",
    "** Classifer 3 - SVC**  \n",
    "\n",
    "| Training Set Size | Training Time (s) | Prediction Time (test) | F1 Score (train) | F1 Score (test) |\n",
    "| :---------------: | :---------------------: | :--------------------: | :--------------: | :-------------: |\n",
    "| 100               |         0.0014          |         0.0022         |       0.8571     |     0.8000      |\n",
    "| 200               |         0.0060          |         0.0021         |       0.8528     |     0.7600      |\n",
    "| 300               |         0.0060          |         0.0044         |       0.8477     |     0.7917      |"
   ]
  },
  {
   "cell_type": "markdown",
   "metadata": {},
   "source": [
    "## Choosing the Best Model\n",
    "In this final section, you will choose from the three supervised learning models the *best* model to use on the student data. You will then perform a grid search optimization for the model over the entire training set (`X_train` and `y_train`) by tuning at least one parameter to improve upon the untuned model's F<sub>1</sub> score. "
   ]
  },
  {
   "cell_type": "markdown",
   "metadata": {},
   "source": [
    "### Question 3 - Choosing the Best Model\n",
    "*Based on the experiments you performed earlier, in one to two paragraphs, explain to the board of supervisors what single model you chose as the best model. Which model is generally the most appropriate based on the available data, limited resources, cost, and performance?*"
   ]
  },
  {
   "cell_type": "markdown",
   "metadata": {},
   "source": [
    "**Answer: **\n",
    "\n",
    "After running an exhaustive number of tests and models variations, we reached the conclusion that we should adopt SVM (Support Vector Machine) to predict if the student might need an early Intervention. From the comparison shown on the table above, we can notice that the SVM has a F1 score (which measures accuracy of the predictions) better then the others (GaussianNB and SVC) for its predictions.\n",
    "\n",
    "We also noticed that the time to train and test the data vary between then, but for our specific case, they can be ignored as they are very little and also because we prefer a bigger accurancy than a smaller time."
   ]
  },
  {
   "cell_type": "markdown",
   "metadata": {},
   "source": [
    "### Question 4 - Model in Layman's Terms\n",
    "*In one to two paragraphs, explain to the board of directors in layman's terms how the final model chosen is supposed to work. Be sure that you are describing the major qualities of the model, such as how the model is trained and how the model makes a prediction. Avoid using advanced mathematical or technical jargon, such as describing equations or discussing the algorithm implementation.*"
   ]
  },
  {
   "cell_type": "markdown",
   "metadata": {},
   "source": [
    "**Answer: **\n",
    "\n",
    "Support Vector Machine is a model that finds the best way to draw a surface (linear or not) to divide the data into two groups. In our case, it divides the ones that need intervention from the ones that don't. This model take in consideration each feature (gender, age, famsize, ...) of our dataset and try to correlate them and find a surface that distinguises the two groups. After using the data of the previous students to tune the model, we use the data of the new students to predict if they need or not intervention."
   ]
  },
  {
   "cell_type": "markdown",
   "metadata": {},
   "source": [
    "### Implementation: Model Tuning\n",
    "Fine tune the chosen model. Use grid search (`GridSearchCV`) with at least one important parameter tuned with at least 3 different values. You will need to use the entire training set for this. In the code cell below, you will need to implement the following:\n",
    "- Import [`sklearn.grid_search.GridSearchCV`](http://scikit-learn.org/0.17/modules/generated/sklearn.grid_search.GridSearchCV.html) and [`sklearn.metrics.make_scorer`](http://scikit-learn.org/stable/modules/generated/sklearn.metrics.make_scorer.html).\n",
    "- Create a dictionary of parameters you wish to tune for the chosen model.\n",
    " - Example: `parameters = {'parameter' : [list of values]}`.\n",
    "- Initialize the classifier you've chosen and store it in `clf`.\n",
    "- Create the F<sub>1</sub> scoring function using `make_scorer` and store it in `f1_scorer`.\n",
    " - Set the `pos_label` parameter to the correct value!\n",
    "- Perform grid search on the classifier `clf` using `f1_scorer` as the scoring method, and store it in `grid_obj`.\n",
    "- Fit the grid search object to the training data (`X_train`, `y_train`), and store it in `grid_obj`."
   ]
  },
  {
   "cell_type": "code",
   "execution_count": 32,
   "metadata": {},
   "outputs": [
    {
     "name": "stdout",
     "output_type": "stream",
     "text": [
      "Made predictions in 0.0026 seconds.\n",
      "Tuned model has a training F1 score of 0.8295.\n",
      "Made predictions in 0.0010 seconds.\n",
      "Tuned model has a testing F1 score of 0.8133.\n"
     ]
    }
   ],
   "source": [
    "from sklearn.grid_search import GridSearchCV \n",
    "from sklearn.metrics import make_scorer\n",
    "from sklearn.svm import SVC\n",
    "\n",
    "parameters = {\n",
    "    'kernel':['linear', 'poly', 'rbf', 'sigmoid'],\n",
    "    'degree':[1, 2, 3, 4, 5, 6, 7],\n",
    "    'C':[0.5, 1, 2],\n",
    "}\n",
    "\n",
    "# Initialize the classifier\n",
    "clf = SVC()\n",
    "\n",
    "# Make an f1 scoring function using 'make_scorer' \n",
    "f1_scorer = make_scorer(f1_score,pos_label=\"yes\")\n",
    "\n",
    "# Perform grid search on the classifier using the f1_scorer as the scoring method\n",
    "grid_obj = GridSearchCV(clf, param_grid = parameters,scoring=f1_scorer)\n",
    "\n",
    "# Fit the grid search object to the training data and find the optimal parameters\n",
    "grid_obj = grid_obj.fit(X_train, y_train)\n",
    "\n",
    "# Get the estimator\n",
    "clf = grid_obj.best_estimator_\n",
    "\n",
    "# Report the final F1 score for training and testing after parameter tuning\n",
    "print(\"Tuned model has a training F1 score of {:.4f}.\".format(predict_labels(clf, X_train, y_train)))\n",
    "print(\"Tuned model has a testing F1 score of {:.4f}.\".format(predict_labels(clf, X_test, y_test)))"
   ]
  },
  {
   "cell_type": "markdown",
   "metadata": {},
   "source": [
    "### Question 5 - Final F<sub>1</sub> Score\n",
    "*What is the final model's F<sub>1</sub> score for training and testing? How does that score compare to the untuned model?*"
   ]
  },
  {
   "cell_type": "markdown",
   "metadata": {},
   "source": [
    "**Answer: **\n",
    "\n",
    "The final training and testing F1 score are: 0.8295 and 0.8133.\n",
    "We can notice the training F1 score **decreased** from 0.8477 to 0.8295 in comparison with the untuned model. \n",
    "And that the testing F1 score **increased** from 0.7917 to 0.8133.\n",
    "We can understand that with the new parameters, the model is generalizing better the prediction decision tree.\n",
    "\n",
    "\n"
   ]
  },
  {
   "cell_type": "markdown",
   "metadata": {},
   "source": [
    "> **Note**: Once you have completed all of the code implementations and successfully answered each question above, you may finalize your work by exporting the iPython Notebook as an HTML document. You can do this by using the menu above and navigating to  \n",
    "**File -> Download as -> HTML (.html)**. Include the finished document along with this notebook as your submission."
   ]
  }
 ],
 "metadata": {
  "kernelspec": {
   "display_name": "Python 3",
   "language": "python",
   "name": "python3"
  },
  "language_info": {
   "codemirror_mode": {
    "name": "ipython",
    "version": 3
   },
   "file_extension": ".py",
   "mimetype": "text/x-python",
   "name": "python",
   "nbconvert_exporter": "python",
   "pygments_lexer": "ipython3",
   "version": "3.6.4"
  }
 },
 "nbformat": 4,
 "nbformat_minor": 2
}
